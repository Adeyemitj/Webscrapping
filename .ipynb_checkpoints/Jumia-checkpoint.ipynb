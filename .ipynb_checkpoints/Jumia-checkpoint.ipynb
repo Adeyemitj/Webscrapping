{
 "cells": [
  {
   "cell_type": "code",
   "execution_count": 2,
   "metadata": {},
   "outputs": [],
   "source": [
    "import requests\n",
    "from bs4 import BeautifulSoup\n",
    "from IPython.core.display import Image, display\n",
    "\n",
    "r=requests.get(\"https://www.jumia.com.ng/phones-tablets/\", \n",
    "              headers={'User-agent':'Mozilla/5.0(X11;Ubuntu;Linux x86_64;rv:61.0)Gecko/20100101 Firefox/61.03'})\n",
    "c=r.content\n",
    "soup=BeautifulSoup(c,\"html.parser\")\n",
    "\n",
    "#print(soup.prettify())\n",
    "\n",
    "all=soup.find_all(\"div\",{\"class\":\"sku\"})\n",
    "\n",
    "all[0].find(\"span\",{\"class\":\"brand\"}).text\n",
    "\n",
    "pg_nm = soup.find_all(\"li\",{\"class\":\"item\"})[0].text\n",
    "pg_nm\n"
   ]
  },
  {
   "cell_type": "code",
   "execution_count": 1,
   "metadata": {},
   "outputs": [],
   "source": [
    "#all"
   ]
  },
  {
   "cell_type": "code",
   "execution_count": null,
   "metadata": {},
   "outputs": [
    {
     "name": "stdout",
     "output_type": "stream",
     "text": [
      "https://www.jumia.com.ng/phones-tablets/?page=0.html\n"
     ]
    }
   ],
   "source": [
    "l=[] #create empty list to store the disctionary\n",
    "\n",
    "#to get the num of pages\n",
    "base_url=\"https://www.jumia.com.ng/phones-tablets/?page=\"\n",
    "headers= \"{'User-agent':'Mozilla/5.0(X11;Ubuntu;Linux x86_64;rv:61.0)Gecko/20100101 Firefox/61.03'}\"\n",
    "for page in range(0,1250,50):\n",
    "    print(base_url+str(page)+\".html\")\n",
    "    r=requests.get(base_url+str(page)+\".html\")\n",
    "    c=r.content\n",
    "    soup=BeautifulSoup(c, \"html.parser\")\n",
    "    #print(soup.prettify())\n",
    "    all=soup.find_all(\"div\",{\"class\":\"sku\"})\n",
    "    \n",
    "    #this loop will as long as pages still exist\n",
    "    for item in all:\n",
    "        p={} #create a dictionary to store the products promo details \n",
    "\n",
    "        try:\n",
    "            p[\"Product Name\"]=item.find(\"span\",{\"class\":\"brand\"}).text\n",
    "        except:\n",
    "            pass\n",
    "        try:\n",
    "            p[\"Product Description\"]=item.find(\"span\",{\"class\":\"name\"}).text\n",
    "        except:\n",
    "            pass\n",
    "        try:\n",
    "            p[\"Old Price\"]=item.find(\"span\",{\"class\":\"price -old\"}).text\n",
    "        except:\n",
    "            pass\n",
    "        try:\n",
    "            p[\"Discount(%)\"]=item.find(\"span\",{\"class\":\"sale-flag-percent\"}).text\n",
    "        except:\n",
    "            p[\"Discount(%)\"]=None\n",
    "        try:\n",
    "            p[\"Promo Price\"]=item.find(\"span\", {\"class\":\"price\"}).text\n",
    "        except:\n",
    "            pass\n",
    "\n",
    "\n",
    "        l.append(p)\n",
    "\n",
    "\n",
    "        print(\" \")\n",
    "\n",
    "        print(l)\n",
    "   "
   ]
  },
  {
   "cell_type": "code",
   "execution_count": 113,
   "metadata": {},
   "outputs": [],
   "source": [
    "#store the list in the data frame\n",
    "import pandas as pd\n",
    "df=pd.DataFrame(l, columns=['Product Name', 'Product Description', 'Old Price', \"Discount(%)\", 'Promo Price'])\n",
    "#df=pd.DataFrame(l)\n"
   ]
  },
  {
   "cell_type": "code",
   "execution_count": null,
   "metadata": {},
   "outputs": [],
   "source": [
    "df"
   ]
  },
  {
   "cell_type": "code",
   "execution_count": 115,
   "metadata": {},
   "outputs": [],
   "source": [
    "df=df.dropna(axis=0, how='all') #remove empty rows"
   ]
  },
  {
   "cell_type": "code",
   "execution_count": null,
   "metadata": {},
   "outputs": [],
   "source": [
    "#df"
   ]
  },
  {
   "cell_type": "code",
   "execution_count": 117,
   "metadata": {},
   "outputs": [],
   "source": [
    "df=df.insert(0, 'S/N', range(1, 1 + len(df))) #insert serial numbers starting from 1"
   ]
  },
  {
   "cell_type": "code",
   "execution_count": null,
   "metadata": {},
   "outputs": [],
   "source": [
    "#df"
   ]
  },
  {
   "cell_type": "code",
   "execution_count": 125,
   "metadata": {},
   "outputs": [],
   "source": [
    "df.to_csv(\"jumia_phones_tablets.doc\")"
   ]
  }
 ],
 "metadata": {
  "kernelspec": {
   "display_name": "Python 3",
   "language": "python",
   "name": "python3"
  },
  "language_info": {
   "codemirror_mode": {
    "name": "ipython",
    "version": 3
   },
   "file_extension": ".py",
   "mimetype": "text/x-python",
   "name": "python",
   "nbconvert_exporter": "python",
   "pygments_lexer": "ipython3",
   "version": "3.7.2"
  }
 },
 "nbformat": 4,
 "nbformat_minor": 2
}
